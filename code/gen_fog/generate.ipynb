{
 "cells": [
  {
   "cell_type": "code",
   "execution_count": 1,
   "id": "e97410b2-a2b1-494f-921f-f5ffb8f96011",
   "metadata": {},
   "outputs": [],
   "source": [
    "%load_ext autoreload\n",
    "%autoreload 2\n",
    "import cv2\n",
    "import numpy as np\n",
    "# import tool_kit as tk\n",
    "# from parameter import const\n",
    "from PIL import Image\n",
    "from matplotlib import pyplot as plt\n",
    "from fog import generate_fog\n",
    "from utils import convert_png2jpg"
   ]
  },
  {
   "cell_type": "code",
   "execution_count": 2,
   "id": "5f888e7f-3ca0-41eb-b8ae-450ef53d9c6a",
   "metadata": {},
   "outputs": [
    {
     "data": {
      "text/plain": [
       "<numpy.errstate at 0x1da1c7c5ba8>"
      ]
     },
     "execution_count": 2,
     "metadata": {},
     "output_type": "execute_result"
    }
   ],
   "source": [
    "np.set_printoptions(threshold=np.inf)\n",
    "np.errstate(invalid='ignore', divide='ignore')"
   ]
  },
  {
   "cell_type": "code",
   "execution_count": 3,
   "id": "aaab4aec-7630-4428-ba22-d016554b79e8",
   "metadata": {},
   "outputs": [],
   "source": [
    "img_path = '../../data/1.jpg'\n",
    "depth_path = '../../data/1_1.jpg'"
   ]
  },
  {
   "cell_type": "code",
   "execution_count": null,
   "id": "594fd7c5-0c58-4d98-abb6-9d0040368e7d",
   "metadata": {},
   "outputs": [],
   "source": [
    "res = generate_fog(img_path, depth_path)\n",
    "# plt.imshow(res)"
   ]
  },
  {
   "cell_type": "code",
   "execution_count": null,
   "id": "32781553-4873-417d-a924-0d28c281839f",
   "metadata": {},
   "outputs": [],
   "source": [
    "cv2.imwrite('../../data/test_gen_haze_1.jpg', res)"
   ]
  }
 ],
 "metadata": {
  "kernelspec": {
   "display_name": "haze",
   "language": "python",
   "name": "haze"
  },
  "language_info": {
   "codemirror_mode": {
    "name": "ipython",
    "version": 3
   },
   "file_extension": ".py",
   "mimetype": "text/x-python",
   "name": "python",
   "nbconvert_exporter": "python",
   "pygments_lexer": "ipython3",
   "version": "3.6.13"
  }
 },
 "nbformat": 4,
 "nbformat_minor": 5
}
