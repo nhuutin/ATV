{
 "cells": [
  {
   "cell_type": "code",
   "execution_count": 1,
   "id": "5eb19b37-6a9e-433d-b37f-eebd71991c89",
   "metadata": {},
   "outputs": [],
   "source": [
    "import cv2\n",
    "import numpy as np"
   ]
  },
  {
   "cell_type": "code",
   "execution_count": 2,
   "id": "fd5c3e93-65d9-4671-8a31-582856bca3a3",
   "metadata": {},
   "outputs": [],
   "source": [
    "video_path = 'D:/data/reside/montblanc_dehazing.mp4'"
   ]
  },
  {
   "cell_type": "code",
   "execution_count": 3,
   "id": "fdc0d25b-acc7-4918-a908-6a043740a2b0",
   "metadata": {},
   "outputs": [],
   "source": [
    "vid_capture = cv2.VideoCapture(video_path)\n",
    "# Check if camera opened successfully\n",
    "if (vid_capture.isOpened() == False): \n",
    "    print(\"Unable to read camera feed\")\n",
    "\n",
    "# Default resolutions of the frame are obtained.The default resolutions are system dependent.\n",
    "# We convert the resolutions from float to integer.\n",
    "frame_width = int(vid_capture.get(3))\n",
    "frame_height = int(vid_capture.get(4))"
   ]
  },
  {
   "cell_type": "code",
   "execution_count": 4,
   "id": "7a79d9e7-e4ba-4d62-adfd-492279b8be5f",
   "metadata": {},
   "outputs": [
    {
     "data": {
      "text/plain": [
       "(1080, 1920)"
      ]
     },
     "execution_count": 4,
     "metadata": {},
     "output_type": "execute_result"
    }
   ],
   "source": [
    "frame_width,frame_height"
   ]
  },
  {
   "cell_type": "code",
   "execution_count": null,
   "id": "954ff6cf-68f4-4d13-b0e4-fb9c52586d16",
   "metadata": {},
   "outputs": [],
   "source": []
  },
  {
   "cell_type": "code",
   "execution_count": 5,
   "id": "755111c3-5fd9-4b67-9336-cd43c6d27328",
   "metadata": {},
   "outputs": [],
   "source": [
    "out = cv2.VideoWriter('./rot_vid.avi',cv2.VideoWriter_fourcc('M','J','P','G'), 30., (frame_width,frame_height))\n",
    "while(True):\n",
    "    ret, frame = vid_capture.read()\n",
    "    if ret == True:\n",
    "        frame = cv2.flip(frame, -3)\n",
    "        out.write(frame)\n",
    "    else:\n",
    "        break"
   ]
  },
  {
   "cell_type": "code",
   "execution_count": 6,
   "id": "4db31484-7cd8-45da-b748-c7a627642715",
   "metadata": {},
   "outputs": [],
   "source": [
    "# When everything done, release the video capture and video write objects\n",
    "# cap.release()\n",
    "# out.release()\n",
    "\n",
    "# Closes all the frames\n",
    "# cv2.destroyAllWindows()"
   ]
  }
 ],
 "metadata": {
  "kernelspec": {
   "display_name": "vision",
   "language": "python",
   "name": "vision"
  },
  "language_info": {
   "codemirror_mode": {
    "name": "ipython",
    "version": 3
   },
   "file_extension": ".py",
   "mimetype": "text/x-python",
   "name": "python",
   "nbconvert_exporter": "python",
   "pygments_lexer": "ipython3",
   "version": "3.7.11"
  }
 },
 "nbformat": 4,
 "nbformat_minor": 5
}
