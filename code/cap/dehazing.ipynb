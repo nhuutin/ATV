{
 "cells": [
  {
   "cell_type": "code",
   "execution_count": 1,
   "id": "3a3ffa48-98bd-405d-b6b1-4bb55081485a",
   "metadata": {},
   "outputs": [],
   "source": [
    "import sys\n",
    "import os\n",
    "import cv2\n",
    "import numpy as np\n",
    "import scipy\n",
    "import scipy.ndimage\n",
    "import matplotlib.pyplot as plt\n",
    "from measure import compute_psnr, compute_ssim"
   ]
  },
  {
   "cell_type": "code",
   "execution_count": 2,
   "id": "daa2e855-5ddf-4b77-86a6-fcc576eb3449",
   "metadata": {},
   "outputs": [],
   "source": [
    "class GuidedFilter:\n",
    "    \n",
    "    def __init__(self, I, radius=5, epsilon=0.4):\n",
    "\n",
    "        self._radius = 2 * radius + 1\n",
    "        self._epsilon = epsilon\n",
    "        self._I = self._toFloatImg(I)\n",
    "        \n",
    "        self._initFilter()\n",
    "\n",
    "    def _toFloatImg(self, img):\n",
    "        if img.dtype == np.float32:\n",
    "            return img\n",
    "        return ( 1.0 / 255.0 ) * np.float32(img)\n",
    "\n",
    "    def _initFilter(self):\n",
    "        I = self._I\n",
    "        r = self._radius\n",
    "        eps = self._epsilon\n",
    "\n",
    "        Ir, Ig, Ib = I[:, :, 0], I[:, :, 1], I[:, :, 2]\n",
    "\n",
    "        self._Ir_mean = cv2.blur(Ir, (r, r))\n",
    "        self._Ig_mean = cv2.blur(Ig, (r, r))\n",
    "        self._Ib_mean = cv2.blur(Ib, (r, r))\n",
    "\n",
    "        Irr_var = cv2.blur(Ir ** 2, (r, r)) - self._Ir_mean ** 2 + eps                                       \n",
    "        Irg_var = cv2.blur(Ir * Ig, (r, r)) - self._Ir_mean * self._Ig_mean                                  \n",
    "        Irb_var = cv2.blur(Ir * Ib, (r, r)) - self._Ir_mean * self._Ib_mean                                  \n",
    "        Igg_var = cv2.blur(Ig * Ig, (r, r)) - self._Ig_mean * self._Ig_mean + eps                            \n",
    "        Igb_var = cv2.blur(Ig * Ib, (r, r)) - self._Ig_mean * self._Ib_mean                                  \n",
    "        Ibb_var = cv2.blur(Ib * Ib, (r, r)) - self._Ib_mean * self._Ib_mean + eps                                                                                     \n",
    "\n",
    "\n",
    "        self._Ir_mean = cv2.blur(Ir, (r, r))\n",
    "        self._Ig_mean = cv2.blur(Ig, (r, r))\n",
    "        self._Ib_mean = cv2.blur(Ib, (r, r))\n",
    "\n",
    "        Irr_var = cv2.blur(Ir ** 2, (r, r)) - self._Ir_mean ** 2 + eps                                       \n",
    "        Irg_var = cv2.blur(Ir * Ig, (r, r)) - self._Ir_mean * self._Ig_mean                                  \n",
    "        Irb_var = cv2.blur(Ir * Ib, (r, r)) - self._Ir_mean * self._Ib_mean                                  \n",
    "        Igg_var = cv2.blur(Ig * Ig, (r, r)) - self._Ig_mean * self._Ig_mean + eps                            \n",
    "        Igb_var = cv2.blur(Ig * Ib, (r, r)) - self._Ig_mean * self._Ib_mean                                  \n",
    "        Ibb_var = cv2.blur(Ib * Ib, (r, r)) - self._Ib_mean * self._Ib_mean + eps                                                       \n",
    "\n",
    "\n",
    "        Irr_inv = Igg_var * Ibb_var - Igb_var * Igb_var                                                      \n",
    "        Irg_inv = Igb_var * Irb_var - Irg_var * Ibb_var                                                      \n",
    "        Irb_inv = Irg_var * Igb_var - Igg_var * Irb_var                                                      \n",
    "        Igg_inv = Irr_var * Ibb_var - Irb_var * Irb_var                                                      \n",
    "        Igb_inv = Irb_var * Irg_var - Irr_var * Igb_var                                                      \n",
    "        Ibb_inv = Irr_var * Igg_var - Irg_var * Irg_var                                                      \n",
    "        \n",
    "        I_cov = Irr_inv * Irr_var + Irg_inv * Irg_var + Irb_inv * Irb_var                                    \n",
    "        Irr_inv /= I_cov                                                                                     \n",
    "        Irg_inv /= I_cov                                                                                     \n",
    "        Irb_inv /= I_cov                                                                                     \n",
    "        Igg_inv /= I_cov                                                                                     \n",
    "        Igb_inv /= I_cov                                                                                     \n",
    "        Ibb_inv /= I_cov                                                                                     \n",
    "        \n",
    "        self._Irr_inv = Irr_inv                                                                              \n",
    "        self._Irg_inv = Irg_inv                                                                              \n",
    "        self._Irb_inv = Irb_inv                                                                              \n",
    "        self._Igg_inv = Igg_inv                                                                              \n",
    "        self._Igb_inv = Igb_inv                                                                              \n",
    "        self._Ibb_inv = Ibb_inv                  \n",
    "\n",
    "    def _computeCoefficients(self, p):\n",
    "        r = self._radius                                                             \n",
    "        I = self._I                                                                 \n",
    "        Ir, Ig, Ib = I[:, :, 0], I[:, :, 1], I[:, :, 2]                                                          \n",
    "        \n",
    "\n",
    "        p_mean = cv2.blur(p, (r, r))                             \n",
    "        Ipr_mean = cv2.blur(Ir * p, (r, r))                                                         \n",
    "        Ipg_mean = cv2.blur(Ig * p, (r, r))                                                    \n",
    "        Ipb_mean = cv2.blur(Ib * p, (r, r))             \n",
    "\n",
    "\n",
    "\n",
    "        Ipr_cov = Ipr_mean - self._Ir_mean * p_mean                                                 \n",
    "        Ipg_cov = Ipg_mean - self._Ig_mean * p_mean                                                     \n",
    "        Ipb_cov = Ipb_mean - self._Ib_mean * p_mean                                                       \n",
    "                                                                                                                 \n",
    "        ar = self._Irr_inv * Ipr_cov + self._Irg_inv * Ipg_cov + self._Irb_inv * Ipb_cov                 \n",
    "        ag = self._Irg_inv * Ipr_cov + self._Igg_inv * Ipg_cov + self._Igb_inv * Ipb_cov                \n",
    "        ab = self._Irb_inv * Ipr_cov + self._Igb_inv * Ipg_cov + self._Ibb_inv * Ipb_cov    \n",
    "\n",
    "        b = p_mean - ar * self._Ir_mean - ag * self._Ig_mean - ab * self._Ib_mean                                                                                                                                         \n",
    "\n",
    "        ar_mean = cv2.blur(ar, (r, r))          \n",
    "        ag_mean = cv2.blur(ag, (r, r))                                                                   \n",
    "        ab_mean = cv2.blur(ab, (r, r))                                                                      \n",
    "        b_mean = cv2.blur(b, (r, r))                                                                                                                                              \n",
    "\n",
    "        return ar_mean, ag_mean, ab_mean, b_mean            \n",
    "\n",
    "    def _computeOutput(self, ab, I):\n",
    "    \n",
    "        ar_mean, ag_mean, ab_mean, b_mean = ab\n",
    "        Ir, Ig, Ib = I[:, :, 0], I[:, :, 1], I[:, :, 2]\n",
    "        q = ar_mean * Ir + ag_mean * Ig + ab_mean * Ib + b_mean\n",
    "        return q\n",
    "\n",
    "    def filter(self, p):\n",
    "        \n",
    "        p_32F = self._toFloatImg(p)\n",
    "        ab = self._computeCoefficients(p)\n",
    "        return self._computeOutput(ab, self._I)"
   ]
  },
  {
   "cell_type": "code",
   "execution_count": 3,
   "id": "b070c899-fa37-47bb-a088-b7651b0c4235",
   "metadata": {},
   "outputs": [],
   "source": [
    "def extract_depth_map(I, config):\n",
    "\n",
    "    hsvI = cv2.cvtColor(I, cv2.COLOR_BGR2HSV)\n",
    "    s = hsvI[:,:,1] / 255.0\n",
    "    v = hsvI[:,:,2] / 255.0\n",
    "\n",
    "    sigma = 0.041337\n",
    "    sigmaMat = np.random.normal(0, sigma, (I.shape[0], I.shape[1]))\n",
    "    \n",
    "    output = config['theta_0'] + config['theta_1'] * v - config['theta_2'] * s + sigmaMat\n",
    "#     output =  0.121779 + 0.959710 * v - 0.780245 * s + sigmaMat\n",
    "    outputPixel = output\n",
    "    r = config['r']\n",
    "    output = scipy.ndimage.filters.minimum_filter(output,(r,r))\n",
    "    outputRegion = output\n",
    "    \n",
    "    return outputRegion, outputPixel\n",
    "\n",
    "def estimate_atmospheric(img, Jdark):\n",
    "\n",
    "    h,w,c = img.shape\n",
    "    if img.dtype == np.uint8:\n",
    "        img = np.float32(img) / 255\n",
    "    \n",
    "    # Compute number for 0.1% brightest pixels\n",
    "    n_bright = int(np.ceil(0.001*h*w))\n",
    "    #  Loc contains the location of the sorted pixels\n",
    "    reshaped_Jdark = Jdark.reshape(1,-1)\n",
    "    Y = np.sort(reshaped_Jdark) \n",
    "    Loc = np.argsort(reshaped_Jdark)\n",
    "    \n",
    "    # column-stacked version of I\n",
    "    Ics = img.reshape(1, h*w, 3)\n",
    "    ix = img.copy()\n",
    "    dx = Jdark.reshape(1,-1)\n",
    "    \n",
    "    # init a matrix to store candidate airlight pixels\n",
    "    Acand = np.zeros((1, n_bright, 3), dtype=np.float32)\n",
    "    # init matrix to store largest norm arilight\n",
    "    Amag = np.zeros((1, n_bright, 1), dtype=np.float32)\n",
    "    \n",
    "    # Compute magnitudes of RGB vectors of A\n",
    "    for i in range(n_bright):\n",
    "        x = Loc[0,h*w-1-i]\n",
    "        ix[x//w, x%w, 0] = 0\n",
    "        ix[x//w, x%w, 1] = 0\n",
    "        ix[x//w, x%w, 2] = 1\n",
    "        \n",
    "        Acand[0, i, :] = Ics[0, Loc[0, h*w-1-i], :]\n",
    "        Amag[0, i] = np.linalg.norm(Acand[0,i,:])\n",
    "    \n",
    "    # Sort A magnitudes\n",
    "    reshaped_Amag = Amag.reshape(1,-1)\n",
    "    Y2 = np.sort(reshaped_Amag) \n",
    "    Loc2 = np.argsort(reshaped_Amag)\n",
    "    # A now stores the best estimate of the airlight\n",
    "    if len(Y2) > 20:\n",
    "        A = Acand[0, Loc2[0, n_bright-19:n_bright],:]\n",
    "    else:\n",
    "        A = Acand[0, Loc2[0,n_bright-len(Y2):n_bright],:]\n",
    "        \n",
    "    return A"
   ]
  },
  {
   "cell_type": "code",
   "execution_count": 14,
   "id": "2a4b7a64-6741-41e8-9291-b73ce979c342",
   "metadata": {},
   "outputs": [],
   "source": [
    "# haze_path = 'D:/data/reside/indoor_train/hazy/1_1_0.90179.png'\n",
    "haze_path = '../../data/test_gen_haze_1.jpg'\n",
    "origin_path = '../../data/1.jpg'"
   ]
  },
  {
   "cell_type": "code",
   "execution_count": 15,
   "id": "dee3a3fb-6585-4bf3-8f12-0aa57e0df564",
   "metadata": {},
   "outputs": [],
   "source": [
    "config = {}\n",
    "config['r'] = 15 \n",
    "config['beta'] = 1.0 \n",
    "config['gimfiltR'] = 60 \n",
    "config['eps'] = 10**-3\n",
    "#     output =  0.121779 + 0.959710 * v - 0.780245 * s + sigmaMat\n",
    "\n",
    "config['theta_0'] = 0.5\n",
    "config['theta_1'] = 0.3\n",
    "config['theta_2'] = -0.2"
   ]
  },
  {
   "cell_type": "code",
   "execution_count": 16,
   "id": "b2064e69-66b3-4763-8fb6-2d8ec597465e",
   "metadata": {},
   "outputs": [],
   "source": [
    "I = cv2.imread(haze_path)\n",
    "dR,dP = extract_depth_map(I, config)"
   ]
  },
  {
   "cell_type": "code",
   "execution_count": 17,
   "id": "72270920-87ad-4d1c-9347-5e12e341b280",
   "metadata": {},
   "outputs": [],
   "source": [
    "I_orig = cv2.imread(origin_path)"
   ]
  },
  {
   "cell_type": "code",
   "execution_count": 18,
   "id": "9ba157e2-73b8-413c-8bef-0227936f2c5b",
   "metadata": {},
   "outputs": [],
   "source": [
    "guided_filter = GuidedFilter(I, config['gimfiltR'], config['eps'])\n",
    "refineDR = guided_filter.filter(dR)\n",
    "\n",
    "tR = np.exp(-config['beta'] * refineDR)\n",
    "tP = np.exp(-config['beta'] * dP)"
   ]
  },
  {
   "cell_type": "code",
   "execution_count": 19,
   "id": "f9165c8d-aa9f-4837-a264-fd2e21d0741f",
   "metadata": {},
   "outputs": [
    {
     "data": {
      "text/plain": [
       "True"
      ]
     },
     "execution_count": 19,
     "metadata": {},
     "output_type": "execute_result"
    }
   ],
   "source": [
    "cv2.imwrite(\"../../data/originalDepthMap.png\", dR*255)\n",
    "cv2.imwrite(\"../../data/refineDepthMap.png\", refineDR*255)\n",
    "cv2.imwrite(\"../../data/transmission.png\", tR*255)"
   ]
  },
  {
   "cell_type": "code",
   "execution_count": 20,
   "id": "5db9a603-8fd2-4c7a-a256-19ae708e758d",
   "metadata": {},
   "outputs": [],
   "source": [
    "a = estimate_atmospheric(I, dR)"
   ]
  },
  {
   "cell_type": "code",
   "execution_count": 21,
   "id": "bc69526a-6e38-4119-ab64-b276927c3234",
   "metadata": {},
   "outputs": [
    {
     "data": {
      "text/plain": [
       "True"
      ]
     },
     "execution_count": 21,
     "metadata": {},
     "output_type": "execute_result"
    }
   ],
   "source": [
    "if I.dtype == np.uint8:\n",
    "    I = np.float32(I) / 255\n",
    "\n",
    "h,w,c = I.shape\n",
    "J = np.zeros((h, w, c), dtype=np.float32)\n",
    "\n",
    "J[:,:,0] = I[:,:,0] - a[0,0]\n",
    "J[:,:,1] = I[:,:,1] - a[0,1]\n",
    "J[:,:,2] = I[:,:,2] - a[0,2]\n",
    "\n",
    "t = tR\n",
    "t0, t1 = 0.05, 1\n",
    "t = t.clip(t0, t1)\n",
    "\n",
    "J[:, :, 0] = J[:, :, 0]  / t\n",
    "J[:, :, 1] = J[:, :, 1]  / t\n",
    "J[:, :, 2] = J[:, :, 2]  / t\n",
    "\n",
    "J[:, :, 0] = J[:, :, 0]  + a[0, 0]\n",
    "J[:, :, 1] = J[:, :, 1]  + a[0, 1]\n",
    "J[:, :, 2] = J[:, :, 2]  + a[0, 2]\n",
    "\n",
    "cv2.imwrite(\"../../data/\"+str(config['r'])+\"_beta\"+str(config['beta'])+\".png\", J*255)"
   ]
  },
  {
   "cell_type": "code",
   "execution_count": 22,
   "id": "921cf4fd-e072-4d3b-8c8d-9951349208eb",
   "metadata": {},
   "outputs": [
    {
     "data": {
      "text/plain": [
       "(14.181379865385109, 0.8073537449879701)"
      ]
     },
     "execution_count": 22,
     "metadata": {},
     "output_type": "execute_result"
    }
   ],
   "source": [
    "compute_psnr(J*255, I_orig), compute_ssim(J*255, I_orig)"
   ]
  },
  {
   "cell_type": "code",
   "execution_count": 23,
   "id": "5c9c998a-0863-48fb-8166-9ef830e734ca",
   "metadata": {},
   "outputs": [
    {
     "data": {
      "text/plain": [
       "(10.220579143978053, 0.7142107712050553)"
      ]
     },
     "execution_count": 23,
     "metadata": {},
     "output_type": "execute_result"
    }
   ],
   "source": [
    "compute_psnr(I*255, I_orig), compute_ssim(I*255, I_orig)"
   ]
  }
 ],
 "metadata": {
  "kernelspec": {
   "display_name": "haze",
   "language": "python",
   "name": "haze"
  },
  "language_info": {
   "codemirror_mode": {
    "name": "ipython",
    "version": 3
   },
   "file_extension": ".py",
   "mimetype": "text/x-python",
   "name": "python",
   "nbconvert_exporter": "python",
   "pygments_lexer": "ipython3",
   "version": "3.6.13"
  }
 },
 "nbformat": 4,
 "nbformat_minor": 5
}
